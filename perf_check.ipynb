{
 "cells": [
  {
   "cell_type": "code",
   "execution_count": 134,
   "metadata": {},
   "outputs": [],
   "source": [
    "from sklearn.metrics import f1_score\n",
    "import numpy as np\n",
    "from numba import jit\n",
    "import warnings\n",
    "warnings.filterwarnings('ignore')"
   ]
  },
  {
   "cell_type": "code",
   "execution_count": 201,
   "metadata": {},
   "outputs": [],
   "source": [
    "@jit\n",
    "def perf_check(perform):\n",
    "    all = 4926 # 7389\n",
    "    digit = len(perform) - 2\n",
    "    perform = float(perform)\n",
    "\n",
    "    ans0 = np.zeros((4673, 1), dtype=np.int) # or 4673\n",
    "    ans1 = np.ones((253, 1), dtype=np.int) # or 253\n",
    "    ans = np.concatenate([ans0, ans1])\n",
    "\n",
    "\n",
    "    for j in range(253):\n",
    "        # public은 public 평가에 사용된 라벨 1의 개수\n",
    "        public = 253-j # 253부터 시작\n",
    "        for i in range(public+1):\n",
    "            # pred1 - 답이 0인데 0이라고 예측한 것\n",
    "            pred1 = np.zeros((4673 - i, 1), dtype=np.int)\n",
    "            # pred2 - 답이 0인데 1이라고 예측(public - i)하거나 1인데 1이라고 예측한 것(i)\n",
    "            pred2 = np.ones((public, 1), dtype=np.int)\n",
    "            # pred3 - 답이 1인데 0이라고 예측한 것\n",
    "            pred3 = np.zeros((j + i, 1), dtype=np.int)\n",
    "            pred4 = np.concatenate([pred1, pred2, pred3])\n",
    "\n",
    "            f1 = f1_score(pred4, ans, average='macro')\n",
    "            if perform == np.round(f1, digit):\n",
    "                print(f'public 평가 점수에 사용된 label 1의 개수 (TP+FP): {public}개, f1 score : {f1}\\n')\n",
    "                print(f\"label 1으로 예측-정답(TP): {public - i}개, label 0으로 예측-오답(FN): {j + i}개, label 1으로 예측-오답(FP): {i}개, label 0으로 예측-정답: 4673개\\n\")\n",
    "            elif perform > np.round(f1, digit):\n",
    "                break"
   ]
  },
  {
   "cell_type": "code",
   "execution_count": 204,
   "metadata": {},
   "outputs": [
    {
     "name": "stdout",
     "output_type": "stream",
     "text": [
      "public 평가 점수에 사용된 label 1의 개수 (TP+FP): 251개, f1 score : 0.9268114391670232\n",
      "\n",
      "label 1으로 예측-정답(TP): 217개, label 0으로 예측-오답(FN): 36개, label 1으로 예측-오답(FP): 34개, label 0으로 예측-정답: 4673개\n",
      "\n"
     ]
    }
   ],
   "source": [
    "perform = \"0.9268114392\" # 평가 점수\n",
    "\n",
    "perf_check(perform)"
   ]
  },
  {
   "cell_type": "code",
   "execution_count": null,
   "metadata": {},
   "outputs": [],
   "source": []
  }
 ],
 "metadata": {
  "kernelspec": {
   "display_name": "myenv",
   "language": "python",
   "name": "python3"
  },
  "language_info": {
   "codemirror_mode": {
    "name": "ipython",
    "version": 3
   },
   "file_extension": ".py",
   "mimetype": "text/x-python",
   "name": "python",
   "nbconvert_exporter": "python",
   "pygments_lexer": "ipython3",
   "version": "3.10.4"
  },
  "orig_nbformat": 4,
  "vscode": {
   "interpreter": {
    "hash": "857970f990130bbcaee778cf1846f7875676d945310dca1379fe4b5ef3d258a5"
   }
  }
 },
 "nbformat": 4,
 "nbformat_minor": 2
}
